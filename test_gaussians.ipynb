{
 "cells": [
  {
   "cell_type": "code",
   "execution_count": 3,
   "metadata": {},
   "outputs": [],
   "source": [
    "%reload_ext autoreload\n",
    "%autoreload 2"
   ]
  },
  {
   "cell_type": "code",
   "execution_count": 4,
   "metadata": {},
   "outputs": [
    {
     "name": "stdout",
     "output_type": "stream",
     "text": [
      "Jupyter environment detected. Enabling Open3D WebVisualizer.\n",
      "[Open3D INFO] WebRTC GUI backend enabled.\n",
      "[Open3D INFO] WebRTCWindowSystem: HTTP handshake server disabled.\n"
     ]
    }
   ],
   "source": [
    "import particle_builder as pb\n",
    "import sam3d as s3d\n",
    "import open3d as o3d\n",
    "from psdframe import Frame\n",
    "from psdstaticdataset import StaticDataset\n",
    "from pathlib import Path\n",
    "from matplotlib import pyplot as plt\n",
    "from segment_anything import build_sam, SamAutomaticMaskGenerator\n",
    "from util import Voxelize, num_to_natural\n",
    "from mesh_to_gaussians import batch_triangles_to_splats, splats_to_oriented_discs\n",
    "import numpy as np\n",
    "from initializerdefs import SceneSetup"
   ]
  },
  {
   "cell_type": "code",
   "execution_count": 5,
   "metadata": {},
   "outputs": [],
   "source": [
    "import logging\n",
    "ch = logging.StreamHandler()\n",
    "pb.logger.setLevel(logging.DEBUG)\n",
    "pb.logger.addHandler(ch)"
   ]
  },
  {
   "cell_type": "code",
   "execution_count": 43,
   "metadata": {},
   "outputs": [
    {
     "name": "stderr",
     "output_type": "stream",
     "text": [
      "Downloading/Locating SAM checkpoint...\n",
      "Sam checkpoint in located at /home/david/.frame-seg-init/models/sam_vith.pth\n"
     ]
    }
   ],
   "source": [
    "DS_PATH = Path(\"/home/david/projects/embodied_gaussians/datasets/real/multiple1_aruco/modelling/static\")\n",
    "d = StaticDataset(DS_PATH / \"transforms.json\")\n",
    "frames = d.frames\n",
    "mask_generator = SamAutomaticMaskGenerator(build_sam(checkpoint=pb.sam_checkpoint).to(device=\"cuda\"))\n",
    "voxelize = Voxelize(voxel_size=pb.VOXEL_SIZE, mode=\"train\", keys=(\"coord\", \"color\", \"group\", \"normals\"))\n",
    "intermediate_outputs_path = Path(\"/home/david/projects/SegmentAnything3D/outputs/notebook\")\n",
    "scene = SceneSetup.load(DS_PATH / \"scene.pkl\")\n",
    "bbox = pb.get_scene_bounding_box(scene)\n"
   ]
  },
  {
   "cell_type": "code",
   "execution_count": 44,
   "metadata": {},
   "outputs": [
    {
     "name": "stdout",
     "output_type": "stream",
     "text": [
      "merging 5 point clouds\n"
     ]
    },
    {
     "name": "stderr",
     "output_type": "stream",
     "text": [
      "/home/david/projects/SegmentAnything3D/.venv/lib/python3.10/site-packages/pointops/query.py:19: UserWarning: The torch.cuda.*DtypeTensor constructors are no longer recommended. It's best to use methods such as torch.tensor(data, dtype=*, device='cuda') to create tensors. (Triggered internally at ../torch/csrc/tensor/python_tensor.cpp:78.)\n",
      "  idx = torch.cuda.IntTensor(m, nsample).zero_()\n"
     ]
    },
    {
     "name": "stdout",
     "output_type": "stream",
     "text": [
      "merging 3 point clouds\n",
      "merging 2 point clouds\n"
     ]
    }
   ],
   "source": [
    "pcd_dict = pb.seg_pcd(d, mask_generator, voxelize, bbox=bbox, intermediate_outputs_path=intermediate_outputs_path)\n"
   ]
  },
  {
   "cell_type": "code",
   "execution_count": 45,
   "metadata": {},
   "outputs": [],
   "source": [
    "# create colors from group\n",
    "group_colors = np.zeros((pcd_dict['group'].shape[0], 3))\n",
    "unique_groups = np.unique(pcd_dict['group'])\n",
    "for i, group in enumerate(unique_groups):\n",
    "    group_colors[pcd_dict['group'] == group] = plt.cm.tab20(i % 20)[:3]"
   ]
  },
  {
   "cell_type": "code",
   "execution_count": 46,
   "metadata": {},
   "outputs": [],
   "source": [
    "\n",
    "bbox.color = [1.0,0,0]\n",
    "pcd = o3d.geometry.PointCloud()\n",
    "pcd.points = o3d.utility.Vector3dVector(pcd_dict['coord'])\n",
    "pcd.colors = o3d.utility.Vector3dVector(group_colors )\n",
    "o3d.visualization.draw_geometries([pcd,bbox ])"
   ]
  },
  {
   "cell_type": "code",
   "execution_count": 43,
   "metadata": {},
   "outputs": [
    {
     "name": "stderr",
     "output_type": "stream",
     "text": [
      "[WARNING] /root/Open3D/build/poisson/src/ext_poisson/PoissonRecon/Src/FEMTree.Initialize.inl (Line 193)\n",
      "          Initialize\n",
      "          Found bad data: 50\n"
     ]
    }
   ],
   "source": [
    "mesh = pb.construct_mesh(pcd_dict)\n",
    "o3d.visualization.draw_geometries([mesh], mesh_show_back_face=True)"
   ]
  },
  {
   "cell_type": "code",
   "execution_count": 48,
   "metadata": {},
   "outputs": [
    {
     "name": "stderr",
     "output_type": "stream",
     "text": [
      "Valid groups: [2, 4, 5, 7, 8, 9, 10, 27, 31, 32, 34, 35, 36, 40, 43, 44, 53]\n",
      "removed : 18 groups\n",
      "Table group: 7\n",
      "[WARNING] /root/Open3D/build/poisson/src/ext_poisson/PoissonRecon/Src/FEMTree.Initialize.inl (Line 193)\n",
      "          Initialize\n",
      "          Found bad data: 40\n"
     ]
    }
   ],
   "source": [
    "meshes = pb.get_object_meshes(pcd_dict, d, scene)\n",
    "\n",
    "# iterate over meshes and give each a color\n",
    "for i, mesh in enumerate(meshes):\n",
    "    mesh.paint_uniform_color(plt.cm.tab20(i % 20)[:3])\n",
    "\n",
    "o3d.visualization.draw_geometries(meshes, mesh_show_back_face=True)\n"
   ]
  },
  {
   "cell_type": "code",
   "execution_count": 48,
   "metadata": {},
   "outputs": [],
   "source": [
    "\n",
    "clean_meshes = [pb.clean_and_watertight_mesh(mesh) for mesh in meshes]\n",
    "# iterate over meshes and give each a color\n",
    "for i, mesh in enumerate(clean_meshes):\n",
    "    mesh.paint_uniform_color(plt.cm.tab20(i % 20)[:3])\n",
    "o3d.visualization.draw_geometries(clean_meshes, mesh_show_back_face=True)"
   ]
  },
  {
   "cell_type": "code",
   "execution_count": 82,
   "metadata": {},
   "outputs": [
    {
     "name": "stderr",
     "output_type": "stream",
     "text": [
      "Downloading/Locating SAM checkpoint...\n",
      "Sam checkpoint in located at /home/david/.frame-seg-init/models/sam_vith.pth\n"
     ]
    }
   ],
   "source": [
    "workspace_mesh = pb.get_workspace_mesh(scene)\n",
    "#workspace_mesh.paint_uniform_color([0,0,1])\n",
    "workspace_mesh.paint_uniform_color([0,1,0])\n",
    "#workspace_pcd.paint_uniform_color([1,0,0])\n",
    "\n",
    "\n",
    "\n",
    "\n",
    "\n",
    "\n",
    "o3d.visualization.draw_geometries([workspace_mesh], mesh_show_back_face=True)\n"
   ]
  },
  {
   "cell_type": "code",
   "execution_count": 1,
   "metadata": {},
   "outputs": [
    {
     "ename": "NameError",
     "evalue": "name 'pb' is not defined",
     "output_type": "error",
     "traceback": [
      "\u001b[0;31m---------------------------------------------------------------------------\u001b[0m",
      "\u001b[0;31mNameError\u001b[0m                                 Traceback (most recent call last)",
      "Cell \u001b[0;32mIn[1], line 1\u001b[0m\n\u001b[0;32m----> 1\u001b[0m workspace_mesh \u001b[38;5;241m=\u001b[39m \u001b[43mpb\u001b[49m\u001b[38;5;241m.\u001b[39mget_workspace_mesh(scene)\n\u001b[1;32m      2\u001b[0m extr_mesh \u001b[38;5;241m=\u001b[39m o3d\u001b[38;5;241m.\u001b[39mt\u001b[38;5;241m.\u001b[39mgeometry\u001b[38;5;241m.\u001b[39mTriangleMesh\u001b[38;5;241m.\u001b[39mfrom_legacy(workspace_mesh)\u001b[38;5;241m.\u001b[39mextrude_linear(vector\u001b[38;5;241m=\u001b[39m[\u001b[38;5;241m0\u001b[39m,\u001b[38;5;241m0\u001b[39m,\u001b[38;5;241m1\u001b[39m], scale\u001b[38;5;241m=\u001b[39m\u001b[38;5;241m0.2\u001b[39m, capping\u001b[38;5;241m=\u001b[39m\u001b[38;5;28;01mTrue\u001b[39;00m)\u001b[38;5;241m.\u001b[39mfill_holes()\u001b[38;5;241m.\u001b[39mto_legacy()\n\u001b[1;32m      3\u001b[0m \u001b[38;5;66;03m#hull, _ = extr_mesh.compute_convex_hull()\u001b[39;00m\n\u001b[1;32m      4\u001b[0m \u001b[38;5;66;03m#import pymeshfix\u001b[39;00m\n",
      "\u001b[0;31mNameError\u001b[0m: name 'pb' is not defined"
     ]
    }
   ],
   "source": [
    "workspace_mesh = pb.get_workspace_mesh(scene)\n",
    "extr_mesh = o3d.t.geometry.TriangleMesh.from_legacy(workspace_mesh).extrude_linear(vector=[0,0,1], scale=0.2, capping=True).to_legacy()\n",
    "#hull, _ = extr_mesh.compute_convex_hull()\n",
    "#import pymeshfix\n",
    "nv, nt = pymeshfix.clean_from_arrays(np.asarray(extr_mesh.vertices), np.asarray(extr_mesh.triangles), joincomp = True, remove_smallest_components=False)\n",
    "clean_mesh = o3d.geometry.TriangleMesh()\n",
    "clean_mesh.vertices = o3d.utility.Vector3dVector(nv)\n",
    "clean_mesh.triangles = o3d.utility.Vector3iVector(nt)\n",
    "\n",
    "o3d.visualization.draw_geometries([extr_mesh], mesh_show_back_face=True)\n"
   ]
  },
  {
   "cell_type": "code",
   "execution_count": 39,
   "metadata": {},
   "outputs": [],
   "source": [
    "table_xyz = scene.ground_gaussians.xyz\n",
    "\n",
    "table_plane = scene.ground_plane\n",
    "table_normal = np.array([table_plane[0], table_plane[1], table_plane[2]])\n",
    "table_pcd_extruded = np.array(table_xyz).copy()\n",
    "\n",
    "DESIRED_HEIGHT = 1.0\n",
    "VOXEL_SIZE = 0.05\n",
    "iters = int(DESIRED_HEIGHT / VOXEL_SIZE)\n",
    "for i in range(iters):\n",
    "    new_points = table_xyz + table_normal * VOXEL_SIZE * i\n",
    "    table_pcd_extruded = np.append(table_pcd_extruded, new_points, axis=0)\n",
    "\n",
    "table_pcd_extruded = o3d.geometry.PointCloud(o3d.utility.Vector3dVector(table_pcd_extruded))\n",
    "table_pcd_extruded.paint_uniform_color([0,0,1])\n",
    "\n",
    "o3d.visualization.draw_geometries([table_pcd_extruded], mesh_show_back_face=True)\n",
    "\n"
   ]
  },
  {
   "cell_type": "code",
   "execution_count": null,
   "metadata": {},
   "outputs": [],
   "source": []
  },
  {
   "cell_type": "code",
   "execution_count": 42,
   "metadata": {},
   "outputs": [],
   "source": [
    "table_pcd = o3d.geometry.PointCloud(o3d.utility.Vector3dVector(table_xyz))\n",
    "table_pcd.paint_uniform_color([1,0,0])\n",
    "voxel_grid = o3d.geometry.VoxelGrid.create_from_point_cloud(table_pcd_extruded, VOXEL_SIZE*2)\n",
    "o3d.visualization.draw_geometries([table_pcd,voxel_grid], mesh_show_back_face=True)\n",
    "\n"
   ]
  },
  {
   "cell_type": "code",
   "execution_count": 59,
   "metadata": {},
   "outputs": [],
   "source": [
    "# scene seems busted, ground points are on robot!\n",
    "# testing background.json\n",
    "\n",
    "import json\n",
    "\n",
    "with open(DS_PATH.parent.parent.parent / \"empty\" / \"background.json\", \"r\") as f:\n",
    "    background = json.load(f)\n"
   ]
  },
  {
   "cell_type": "code",
   "execution_count": null,
   "metadata": {},
   "outputs": [],
   "source": [
    "\n"
   ]
  },
  {
   "cell_type": "code",
   "execution_count": 61,
   "metadata": {},
   "outputs": [],
   "source": [
    "background_pcd = o3d.geometry.PointCloud(o3d.utility.Vector3dVector(background['points']))\n",
    "background_pcd.paint_uniform_color([1,0,0])\n",
    "\n",
    "scene_pcd = o3d.geometry.PointCloud(o3d.utility.Vector3dVector(scene.ground_gaussians.xyz))\n",
    "scene_pcd.paint_uniform_color([0,0,1])\n",
    "o3d.visualization.draw_geometries([background_pcd, scene_pcd], mesh_show_back_face=True)\n"
   ]
  },
  {
   "cell_type": "code",
   "execution_count": 5,
   "metadata": {},
   "outputs": [],
   "source": [
    "tblock = meshes[0]\n",
    "tblock.compute_triangle_normals()\n",
    "o3d.visualization.draw_geometries([tblock], mesh_show_back_face=True)"
   ]
  },
  {
   "cell_type": "code",
   "execution_count": 6,
   "metadata": {},
   "outputs": [
    {
     "data": {
      "text/plain": [
       "((15680, 3, 3), (15680, 3))"
      ]
     },
     "execution_count": 6,
     "metadata": {},
     "output_type": "execute_result"
    }
   ],
   "source": [
    "triangles = np.asarray(np.asarray(tblock.vertices)[tblock.triangles])\n",
    "triangle_normals = np.asarray(tblock.triangle_normals)\n",
    "\n",
    "triangles.shape, triangle_normals.shape"
   ]
  },
  {
   "cell_type": "code",
   "execution_count": 7,
   "metadata": {},
   "outputs": [
    {
     "name": "stderr",
     "output_type": "stream",
     "text": [
      "/home/david/projects/SegmentAnything3D/mesh_to_gaussians.py:151: UserWarning: Using torch.cross without specifying the dim arg is deprecated.\n",
      "Please either pass the dim explicitly or simply use torch.linalg.cross.\n",
      "The default value of dim will change to agree with that of linalg.cross in a future release. (Triggered internally at ../aten/src/ATen/native/Cross.cpp:62.)\n",
      "  t = 2.0 * torch.cross(q_xyz, v)\n"
     ]
    }
   ],
   "source": [
    "splats = batch_triangles_to_splats(triangles, triangle_normals)"
   ]
  },
  {
   "cell_type": "code",
   "execution_count": 8,
   "metadata": {},
   "outputs": [
    {
     "data": {
      "text/plain": [
       "((15680, 3), (15680, 3), (15680, 4))"
      ]
     },
     "execution_count": 8,
     "metadata": {},
     "output_type": "execute_result"
    }
   ],
   "source": [
    "splats['centers'].shape, splats['scales'].shape, splats['rotations'].shape"
   ]
  },
  {
   "cell_type": "code",
   "execution_count": 10,
   "metadata": {},
   "outputs": [],
   "source": [
    "discs = splats_to_oriented_discs(splats['centers'], splats['scales'], splats['rotations'])\n",
    "o3d.visualization.draw_geometries(discs, mesh_show_back_face=True)"
   ]
  },
  {
   "cell_type": "code",
   "execution_count": 18,
   "metadata": {},
   "outputs": [
    {
     "ename": "KeyboardInterrupt",
     "evalue": "",
     "output_type": "error",
     "traceback": [
      "\u001b[0;31m---------------------------------------------------------------------------\u001b[0m",
      "\u001b[0;31mKeyboardInterrupt\u001b[0m                         Traceback (most recent call last)",
      "Cell \u001b[0;32mIn[18], line 14\u001b[0m\n\u001b[1;32m     11\u001b[0m splats \u001b[38;5;241m=\u001b[39m batch_triangles_to_splats(triangles, triangle_normals)\n\u001b[1;32m     12\u001b[0m discs \u001b[38;5;241m=\u001b[39m splats_to_oriented_discs(splats[\u001b[38;5;124m'\u001b[39m\u001b[38;5;124mcenters\u001b[39m\u001b[38;5;124m'\u001b[39m], splats[\u001b[38;5;124m'\u001b[39m\u001b[38;5;124mscales\u001b[39m\u001b[38;5;124m'\u001b[39m], splats[\u001b[38;5;124m'\u001b[39m\u001b[38;5;124mrotations\u001b[39m\u001b[38;5;124m'\u001b[39m])\n\u001b[0;32m---> 14\u001b[0m \u001b[43mo3d\u001b[49m\u001b[38;5;241;43m.\u001b[39;49m\u001b[43mvisualization\u001b[49m\u001b[38;5;241;43m.\u001b[39;49m\u001b[43mdraw_geometries\u001b[49m\u001b[43m(\u001b[49m\u001b[43m[\u001b[49m\u001b[43mbox\u001b[49m\u001b[43m,\u001b[49m\u001b[43m \u001b[49m\u001b[38;5;241;43m*\u001b[39;49m\u001b[43mdiscs\u001b[49m\u001b[43m]\u001b[49m\u001b[43m,\u001b[49m\u001b[43m \u001b[49m\u001b[43mmesh_show_back_face\u001b[49m\u001b[38;5;241;43m=\u001b[39;49m\u001b[38;5;28;43;01mTrue\u001b[39;49;00m\u001b[43m)\u001b[49m\n",
      "\u001b[0;31mKeyboardInterrupt\u001b[0m: "
     ]
    }
   ],
   "source": [
    "box = o3d.geometry.TriangleMesh.create_box(0.5,0.5,0.5)\n",
    "box.compute_triangle_normals()\n",
    "triangles = np.asarray(np.asarray(box.vertices)[box.triangles])\n",
    "triangle_normals = np.asarray(box.triangle_normals)\n",
    "\n",
    "#mask = triangle_normals[:, 2] == 1  # looks like y axis is borked\n",
    "#triangle_normals = triangle_normals[mask]\n",
    "#triangles  = triangles[mask]\n",
    "\n",
    "\n",
    "splats = batch_triangles_to_splats(triangles, triangle_normals)\n",
    "discs = splats_to_oriented_discs(splats['centers'], splats['scales'], splats['rotations'])\n",
    "\n",
    "o3d.visualization.draw_geometries([box, *discs], mesh_show_back_face=True)"
   ]
  },
  {
   "cell_type": "code",
   "execution_count": 55,
   "metadata": {},
   "outputs": [
    {
     "data": {
      "text/plain": [
       "[TriangleMesh with 33 points and 32 triangles.,\n",
       " TriangleMesh with 33 points and 32 triangles.]"
      ]
     },
     "execution_count": 55,
     "metadata": {},
     "output_type": "execute_result"
    }
   ],
   "source": [
    "splats_to_oriented_discs(splats['centers'], splats['scales'], splats['rotations'])"
   ]
  },
  {
   "cell_type": "code",
   "execution_count": 53,
   "metadata": {},
   "outputs": [
    {
     "data": {
      "text/plain": [
       "array([[3.53553391e-01, 1.76776695e-01, 1.00000000e-04],\n",
       "       [3.53553391e-01, 1.76776695e-01, 1.00000000e-04]])"
      ]
     },
     "execution_count": 53,
     "metadata": {},
     "output_type": "execute_result"
    }
   ],
   "source": [
    "splats['scales']"
   ]
  },
  {
   "cell_type": "code",
   "execution_count": 50,
   "metadata": {},
   "outputs": [
    {
     "data": {
      "text/plain": [
       "array([[0., 1., 0.],\n",
       "       [0., 1., 0.]])"
      ]
     },
     "execution_count": 50,
     "metadata": {},
     "output_type": "execute_result"
    }
   ],
   "source": [
    "triangle_normals"
   ]
  },
  {
   "cell_type": "code",
   "execution_count": 49,
   "metadata": {},
   "outputs": [
    {
     "data": {
      "text/plain": [
       "array([[ 0.7071068, -0.7071068,  0.       ,  0.       ],\n",
       "       [ 0.7071068, -0.7071068,  0.       ,  0.       ]], dtype=float32)"
      ]
     },
     "execution_count": 49,
     "metadata": {},
     "output_type": "execute_result"
    }
   ],
   "source": [
    "splats['rotations']"
   ]
  },
  {
   "cell_type": "code",
   "execution_count": 39,
   "metadata": {},
   "outputs": [
    {
     "data": {
      "text/plain": [
       "array([[ 0.,  1.,  0.],\n",
       "       [ 0.,  1.,  0.],\n",
       "       [ 0., -1.,  0.],\n",
       "       [ 0., -1.,  0.],\n",
       "       [ 0.,  0.,  1.],\n",
       "       [ 0.,  0.,  1.],\n",
       "       [ 0.,  0., -1.],\n",
       "       [ 0.,  0., -1.]])"
      ]
     },
     "execution_count": 39,
     "metadata": {},
     "output_type": "execute_result"
    }
   ],
   "source": [
    "mask = triangle_normals[:, 0] == 0\n",
    "triangle_normals[mask]"
   ]
  },
  {
   "cell_type": "code",
   "execution_count": 44,
   "metadata": {},
   "outputs": [
    {
     "data": {
      "text/plain": [
       "array([[0.7071068, 0.       , 0.7071068, 0.       ]], dtype=float32)"
      ]
     },
     "execution_count": 44,
     "metadata": {},
     "output_type": "execute_result"
    }
   ],
   "source": [
    "from mesh_to_gaussians import create_aligned_ellipsoid\n",
    "create_aligned_ellipsoid(np.array([[1,0,0]]))\n"
   ]
  },
  {
   "cell_type": "code",
   "execution_count": 45,
   "metadata": {},
   "outputs": [
    {
     "data": {
      "text/plain": [
       "array([[ 0.7071068, -0.7071068,  0.       ,  0.       ]], dtype=float32)"
      ]
     },
     "execution_count": 45,
     "metadata": {},
     "output_type": "execute_result"
    }
   ],
   "source": [
    "create_aligned_ellipsoid(np.array([[0,1,0]]))"
   ]
  },
  {
   "cell_type": "code",
   "execution_count": 46,
   "metadata": {},
   "outputs": [
    {
     "data": {
      "text/plain": [
       "array([[1., 0., 0., 0.]], dtype=float32)"
      ]
     },
     "execution_count": 46,
     "metadata": {},
     "output_type": "execute_result"
    }
   ],
   "source": [
    "create_aligned_ellipsoid(np.array([[0,0,1]]))"
   ]
  },
  {
   "cell_type": "code",
   "execution_count": 47,
   "metadata": {},
   "outputs": [
    {
     "data": {
      "text/plain": [
       "array([[ 0.7071068,  0.7071068,  0.       , -0.       ]], dtype=float32)"
      ]
     },
     "execution_count": 47,
     "metadata": {},
     "output_type": "execute_result"
    }
   ],
   "source": [
    "create_aligned_ellipsoid(np.array([[0,-1,0]]))"
   ]
  },
  {
   "cell_type": "code",
   "execution_count": 51,
   "metadata": {},
   "outputs": [
    {
     "name": "stdout",
     "output_type": "stream",
     "text": [
      "Normal [0, 1, 0] converted to quaternion [w,x,y,z]: [ 0.70710678 -0.70710678  0.          0.        ]\n"
     ]
    }
   ],
   "source": [
    "\n",
    "def normal_to_quaternion(normal):\n",
    "    \"\"\"\n",
    "    Convert a normal vector to a rotation quaternion that would rotate [0,0,1] to align with the normal.\n",
    "    \n",
    "    Args:\n",
    "        normal: A numpy array or list containing [x,y,z] coordinates of the normal vector\n",
    "        \n",
    "    Returns:\n",
    "        quaternion: A numpy array [w,x,y,z] representing the rotation quaternion\n",
    "    \"\"\"\n",
    "    # Convert input to numpy array and normalize\n",
    "    normal = np.array(normal, dtype=float)\n",
    "    normal = normal / np.linalg.norm(normal)\n",
    "    \n",
    "    # Default up vector we're rotating from\n",
    "    up = np.array([0, 0, 1])\n",
    "    \n",
    "    # Get rotation axis and angle\n",
    "    axis = np.cross(up, normal)\n",
    "    \n",
    "    # If normal is parallel to up vector, handle specially\n",
    "    if np.allclose(axis, 0):\n",
    "        if np.allclose(normal, up):\n",
    "            return np.array([1, 0, 0, 0])  # Identity quaternion\n",
    "        else:\n",
    "            return np.array([0, 1, 0, 0])  # 180° rotation around X\n",
    "    \n",
    "    axis = axis / np.linalg.norm(axis)\n",
    "    angle = np.arccos(np.dot(up, normal))\n",
    "    \n",
    "    # Convert axis-angle to quaternion\n",
    "    w = np.cos(angle / 2)\n",
    "    xyz = axis * np.sin(angle / 2)\n",
    "    \n",
    "    return np.array([w, xyz[0], xyz[1], xyz[2]])\n",
    "\n",
    "# Example usage for [0,1,0]\n",
    "normal = [0, 1, 0]\n",
    "quaternion = normal_to_quaternion(normal)\n",
    "print(f\"Normal {normal} converted to quaternion [w,x,y,z]: {quaternion}\")"
   ]
  },
  {
   "cell_type": "code",
   "execution_count": 4,
   "metadata": {},
   "outputs": [],
   "source": [
    "DS_PATH = Path(\"/home/david/projects/embodied_gaussians/datasets/real/multiple1_aruco/modelling/static\")\n",
    "d = StaticDataset(DS_PATH / \"transforms.json\")\n",
    "intermediate_outputs_path = Path(\"/home/david/projects/SegmentAnything3D/outputs/notebook\")\n",
    "scene = SceneSetup.load(DS_PATH / \"scene.json\")"
   ]
  },
  {
   "cell_type": "code",
   "execution_count": 32,
   "metadata": {},
   "outputs": [
    {
     "name": "stdout",
     "output_type": "stream",
     "text": [
      "merging 5 point clouds\n",
      "merging 3 point clouds\n",
      "merging 2 point clouds\n"
     ]
    },
    {
     "name": "stderr",
     "output_type": "stream",
     "text": [
      "Segmented cloud has [ -1   0   1   2   3   4   5   6   7   8   9  10  11  12  13  14  15  16\n",
      "  17  18  19  20  21  22  23  24  25  26  27  28  29  30  31  32  33  34\n",
      "  35  36  37  38  39  40  41  42  43  44  45  46  47  48  49  50  51  52\n",
      "  53  54  55  56  57  58  59  60  61  62  63  64  65  66  67  68  69  70\n",
      "  71  72  73  74  75  76  77  78  79  80  81  82  83  84  85  86  87  88\n",
      "  89  90  91  92  93  94  95  96  97  98  99 100 101 102 103 104 105 106\n",
      " 107 108 109 110 111 112 113 114 115 116 117 118 119 120 121 122 123 124\n",
      " 125 126 127 128 129 130 131 132 133] unique groups - [ -1   0   1   2   3   4   5   6   7   8   9  10  11  12  13  14  15  16\n",
      "  17  18  19  20  21  22  23  24  25  26  27  28  29  30  31  32  33  34\n",
      "  35  36  37  38  39  40  41  42  43  44  45  46  47  48  49  50  51  52\n",
      "  53  54  55  56  57  58  59  60  61  62  63  64  65  66  67  68  69  70\n",
      "  71  72  73  74  75  76  77  78  79  80  81  82  83  84  85  86  87  88\n",
      "  89  90  91  92  93  94  95  96  97  98  99 100 101 102 103 104 105 106\n",
      " 107 108 109 110 111 112 113 114 115 116 117 118 119 120 121 122 123 124\n",
      " 125 126 127 128 129 130 131 132 133]\n",
      "Valid groups: [1, 2, 4, 7, 12, 13, 15, 26, 33, 36, 39, 40, 43, 47, 49, 50, 51, 52, 53, 54, 55, 59, 61, 65, 66, 67, 68, 69, 70, 74, 78, 93, 96, 97, 106, 107, 108, 115, 117, 118, 119, 120, 121, 125, 126, 127, 128, 129, 130, 132, 133]\n",
      "removed : 84 groups\n",
      "[WARNING] /root/Open3D/build/poisson/src/ext_poisson/PoissonRecon/Src/FEMTree.Initialize.inl (Line 193)\n",
      "          Initialize\n",
      "          Found bad data: 91\n",
      "Mesh 15 is not clean and watertight, ignoring\n",
      "Mesh 16 is not clean and watertight, ignoring\n",
      "Mesh 19 is not clean and watertight, ignoring\n",
      "Mesh 20 is not clean and watertight, ignoring\n",
      "Mesh 22 is not clean and watertight, ignoring\n",
      "Mesh 29 is not clean and watertight, ignoring\n"
     ]
    },
    {
     "name": "stdout",
     "output_type": "stream",
     "text": [
      "Dims: [1 1 1]\n",
      "Dims: [4 6 2]\n",
      "Dims: [ 5  7 11]\n",
      "Dims: [ 7 15  7]\n",
      "Dims: [1 1 1]\n",
      "Dims: [1 1 1]\n",
      "Dims: [1 1 1]\n",
      "Dims: [1 2 2]\n",
      "Dims: [1 1 1]\n",
      "Dims: [1 1 1]\n",
      "Dims: [1 1 1]\n",
      "Dims: [1 1 1]\n",
      "Dims: [2 7 6]\n",
      "Dims: [5 3 2]\n",
      "Dims: [7 9 1]\n",
      "Dims: [1 1 1]\n",
      "Dims: [6 8 7]\n",
      "Dims: [4 3 2]\n",
      "Dims: [1 1 1]\n",
      "Dims: [1 1 1]\n",
      "Dims: [2 1 1]\n",
      "Dims: [5 5 3]\n",
      "Dims: [4 3 1]\n",
      "Dims: [1 1 1]\n",
      "Dims: [5 9 2]\n",
      "Dims: [5 5 2]\n",
      "Dims: [1 1 1]\n",
      "Dims: [6 9 2]\n",
      "Dims: [1 1 1]\n",
      "Dims: [109  40   6]\n",
      "Dims: [2 1 3]\n",
      "Dims: [1 2 1]\n",
      "Dims: [1 2 1]\n",
      "Dims: [1 2 1]\n",
      "Dims: [2 2 1]\n",
      "Dims: [ 6  4 10]\n",
      "Dims: [2 2 4]\n",
      "Dims: [1 1 1]\n",
      "Dims: [1 1 2]\n",
      "Dims: [1 1 1]\n",
      "Dims: [1 1 1]\n",
      "Dims: [3 2 1]\n",
      "Dims: [3 2 1]\n",
      "Dims: [4 4 1]\n"
     ]
    }
   ],
   "source": [
    "result = pb.initialize_scene(d, None, intermediate_outputs_path)"
   ]
  },
  {
   "cell_type": "code",
   "execution_count": 33,
   "metadata": {},
   "outputs": [
    {
     "data": {
      "text/plain": [
       "44"
      ]
     },
     "execution_count": 33,
     "metadata": {},
     "output_type": "execute_result"
    }
   ],
   "source": [
    "len(result.objects)"
   ]
  },
  {
   "cell_type": "code",
   "execution_count": 43,
   "metadata": {},
   "outputs": [],
   "source": [
    "gaussians = result.objects[2].gaussians\n",
    "particles = result.objects[2].particles"
   ]
  },
  {
   "cell_type": "code",
   "execution_count": 41,
   "metadata": {},
   "outputs": [
    {
     "name": "stdout",
     "output_type": "stream",
     "text": [
      "126 126\n"
     ]
    }
   ],
   "source": [
    "# create spheres from particles, and move to particles position\n",
    "spheres = [o3d.geometry.TriangleMesh.create_sphere(radius=particle.radius) for particle in particles]\n",
    "print(len(spheres), len(particles))\n",
    "for sphere, particle in zip(spheres, particles):\n",
    "    sphere.translate(particle.xyz)\n",
    "o3d.visualization.draw_geometries([*spheres], mesh_show_back_face=True)"
   ]
  },
  {
   "cell_type": "code",
   "execution_count": 44,
   "metadata": {},
   "outputs": [],
   "source": [
    "# create discs from gaussians, and move to gaussian position\n",
    "discs = splats_to_oriented_discs(gaussians.xyz, gaussians.scaling, gaussians.rotations, gaussians.colors, resolution=12)\n",
    "o3d.visualization.draw_geometries(discs, mesh_show_back_face=True)"
   ]
  }
 ],
 "metadata": {
  "kernelspec": {
   "display_name": ".venv",
   "language": "python",
   "name": "python3"
  },
  "language_info": {
   "codemirror_mode": {
    "name": "ipython",
    "version": 3
   },
   "file_extension": ".py",
   "mimetype": "text/x-python",
   "name": "python",
   "nbconvert_exporter": "python",
   "pygments_lexer": "ipython3",
   "version": "3.10.14"
  }
 },
 "nbformat": 4,
 "nbformat_minor": 2
}
