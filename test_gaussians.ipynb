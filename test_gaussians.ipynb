{
 "cells": [
  {
   "cell_type": "code",
   "execution_count": 1,
   "metadata": {},
   "outputs": [],
   "source": [
    "%reload_ext autoreload\n",
    "%autoreload 2"
   ]
  },
  {
   "cell_type": "code",
   "execution_count": 2,
   "metadata": {},
   "outputs": [
    {
     "name": "stdout",
     "output_type": "stream",
     "text": [
      "Jupyter environment detected. Enabling Open3D WebVisualizer.\n",
      "[Open3D INFO] WebRTC GUI backend enabled.\n",
      "[Open3D INFO] WebRTCWindowSystem: HTTP handshake server disabled.\n"
     ]
    }
   ],
   "source": [
    "import particle_builder as pb\n",
    "import sam3d as s3d\n",
    "import open3d as o3d\n",
    "from psdframe import Frame\n",
    "from psdstaticdataset import StaticDataset\n",
    "from pathlib import Path\n",
    "from matplotlib import pyplot as plt\n",
    "from segment_anything import build_sam, SamAutomaticMaskGenerator\n",
    "from util import Voxelize, num_to_natural\n",
    "from mesh_to_gaussians import batch_triangles_to_splats, splats_to_oriented_discs\n",
    "import numpy as np"
   ]
  },
  {
   "cell_type": "code",
   "execution_count": 3,
   "metadata": {},
   "outputs": [
    {
     "name": "stdout",
     "output_type": "stream",
     "text": [
      "merging 6 point clouds\n"
     ]
    },
    {
     "name": "stderr",
     "output_type": "stream",
     "text": [
      "/home/david/projects/SegmentAnything3D/.venv/lib/python3.10/site-packages/pointops/query.py:19: UserWarning: The torch.cuda.*DtypeTensor constructors are no longer recommended. It's best to use methods such as torch.tensor(data, dtype=*, device='cuda') to create tensors. (Triggered internally at ../torch/csrc/tensor/python_tensor.cpp:78.)\n",
      "  idx = torch.cuda.IntTensor(m, nsample).zero_()\n"
     ]
    },
    {
     "name": "stdout",
     "output_type": "stream",
     "text": [
      "merging 3 point clouds\n",
      "merging 2 point clouds\n"
     ]
    }
   ],
   "source": [
    "DS_PATH = Path(\"/home/david/projects/embodied_gaussians/datasets/simulated/single_1/modelling/static\")\n",
    "d = StaticDataset(DS_PATH / \"transforms.json\")\n",
    "frames = d.frames\n",
    "mask_generator = SamAutomaticMaskGenerator(build_sam(checkpoint=pb.sam_checkpoint).to(device=\"cuda\"))\n",
    "voxelize = Voxelize(voxel_size=pb.VOXEL_SIZE, mode=\"train\", keys=(\"coord\", \"color\", \"group\", \"normals\"))\n",
    "intermediate_outputs_path = Path(\"/home/david/projects/SegmentAnything3D/outputs/notebook\")\n",
    "\n",
    "pcd_dict = pb.seg_pcd(d, mask_generator, voxelize, intermediate_outputs_path)\n",
    "\n",
    "pcd = o3d.geometry.PointCloud()\n",
    "pcd.points = o3d.utility.Vector3dVector(pcd_dict['coord'])\n",
    "pcd.colors = o3d.utility.Vector3dVector(pcd_dict['color'])\n",
    "o3d.visualization.draw_geometries([pcd])"
   ]
  },
  {
   "cell_type": "code",
   "execution_count": 4,
   "metadata": {},
   "outputs": [
    {
     "name": "stderr",
     "output_type": "stream",
     "text": [
      "[WARNING] /root/Open3D/build/poisson/src/ext_poisson/PoissonRecon/Src/FEMTree.Initialize.inl (Line 193)\n",
      "          Initialize\n",
      "          Found bad data: 228\n"
     ]
    },
    {
     "name": "stdout",
     "output_type": "stream",
     "text": [
      "\u001b[1;33m[Open3D WARNING] The number of points is 0 when creating axis-aligned bounding box.\u001b[0;m\n"
     ]
    }
   ],
   "source": [
    "meshes = pb.get_object_meshes(pcd_dict, d)\n",
    "o3d.visualization.draw_geometries(meshes, mesh_show_back_face=True)\n"
   ]
  },
  {
   "cell_type": "code",
   "execution_count": 5,
   "metadata": {},
   "outputs": [],
   "source": [
    "tblock = meshes[0]\n",
    "tblock.compute_triangle_normals()\n",
    "o3d.visualization.draw_geometries([tblock], mesh_show_back_face=True)"
   ]
  },
  {
   "cell_type": "code",
   "execution_count": 6,
   "metadata": {},
   "outputs": [
    {
     "data": {
      "text/plain": [
       "((15680, 3, 3), (15680, 3))"
      ]
     },
     "execution_count": 6,
     "metadata": {},
     "output_type": "execute_result"
    }
   ],
   "source": [
    "triangles = np.asarray(np.asarray(tblock.vertices)[tblock.triangles])\n",
    "triangle_normals = np.asarray(tblock.triangle_normals)\n",
    "\n",
    "triangles.shape, triangle_normals.shape"
   ]
  },
  {
   "cell_type": "code",
   "execution_count": 7,
   "metadata": {},
   "outputs": [
    {
     "name": "stderr",
     "output_type": "stream",
     "text": [
      "/home/david/projects/SegmentAnything3D/mesh_to_gaussians.py:151: UserWarning: Using torch.cross without specifying the dim arg is deprecated.\n",
      "Please either pass the dim explicitly or simply use torch.linalg.cross.\n",
      "The default value of dim will change to agree with that of linalg.cross in a future release. (Triggered internally at ../aten/src/ATen/native/Cross.cpp:62.)\n",
      "  t = 2.0 * torch.cross(q_xyz, v)\n"
     ]
    }
   ],
   "source": [
    "splats = batch_triangles_to_splats(triangles, triangle_normals)"
   ]
  },
  {
   "cell_type": "code",
   "execution_count": 8,
   "metadata": {},
   "outputs": [
    {
     "data": {
      "text/plain": [
       "((15680, 3), (15680, 3), (15680, 4))"
      ]
     },
     "execution_count": 8,
     "metadata": {},
     "output_type": "execute_result"
    }
   ],
   "source": [
    "splats['centers'].shape, splats['scales'].shape, splats['rotations'].shape"
   ]
  },
  {
   "cell_type": "code",
   "execution_count": 10,
   "metadata": {},
   "outputs": [],
   "source": [
    "discs = splats_to_oriented_discs(splats['centers'], splats['scales'], splats['rotations'])\n",
    "o3d.visualization.draw_geometries(discs, mesh_show_back_face=True)"
   ]
  },
  {
   "cell_type": "code",
   "execution_count": 18,
   "metadata": {},
   "outputs": [
    {
     "ename": "KeyboardInterrupt",
     "evalue": "",
     "output_type": "error",
     "traceback": [
      "\u001b[0;31m---------------------------------------------------------------------------\u001b[0m",
      "\u001b[0;31mKeyboardInterrupt\u001b[0m                         Traceback (most recent call last)",
      "Cell \u001b[0;32mIn[18], line 14\u001b[0m\n\u001b[1;32m     11\u001b[0m splats \u001b[38;5;241m=\u001b[39m batch_triangles_to_splats(triangles, triangle_normals)\n\u001b[1;32m     12\u001b[0m discs \u001b[38;5;241m=\u001b[39m splats_to_oriented_discs(splats[\u001b[38;5;124m'\u001b[39m\u001b[38;5;124mcenters\u001b[39m\u001b[38;5;124m'\u001b[39m], splats[\u001b[38;5;124m'\u001b[39m\u001b[38;5;124mscales\u001b[39m\u001b[38;5;124m'\u001b[39m], splats[\u001b[38;5;124m'\u001b[39m\u001b[38;5;124mrotations\u001b[39m\u001b[38;5;124m'\u001b[39m])\n\u001b[0;32m---> 14\u001b[0m \u001b[43mo3d\u001b[49m\u001b[38;5;241;43m.\u001b[39;49m\u001b[43mvisualization\u001b[49m\u001b[38;5;241;43m.\u001b[39;49m\u001b[43mdraw_geometries\u001b[49m\u001b[43m(\u001b[49m\u001b[43m[\u001b[49m\u001b[43mbox\u001b[49m\u001b[43m,\u001b[49m\u001b[43m \u001b[49m\u001b[38;5;241;43m*\u001b[39;49m\u001b[43mdiscs\u001b[49m\u001b[43m]\u001b[49m\u001b[43m,\u001b[49m\u001b[43m \u001b[49m\u001b[43mmesh_show_back_face\u001b[49m\u001b[38;5;241;43m=\u001b[39;49m\u001b[38;5;28;43;01mTrue\u001b[39;49;00m\u001b[43m)\u001b[49m\n",
      "\u001b[0;31mKeyboardInterrupt\u001b[0m: "
     ]
    }
   ],
   "source": [
    "box = o3d.geometry.TriangleMesh.create_box(0.5,0.5,0.5)\n",
    "box.compute_triangle_normals()\n",
    "triangles = np.asarray(np.asarray(box.vertices)[box.triangles])\n",
    "triangle_normals = np.asarray(box.triangle_normals)\n",
    "\n",
    "#mask = triangle_normals[:, 2] == 1  # looks like y axis is borked\n",
    "#triangle_normals = triangle_normals[mask]\n",
    "#triangles  = triangles[mask]\n",
    "\n",
    "\n",
    "splats = batch_triangles_to_splats(triangles, triangle_normals)\n",
    "discs = splats_to_oriented_discs(splats['centers'], splats['scales'], splats['rotations'])\n",
    "\n",
    "o3d.visualization.draw_geometries([box, *discs], mesh_show_back_face=True)"
   ]
  },
  {
   "cell_type": "code",
   "execution_count": 55,
   "metadata": {},
   "outputs": [
    {
     "data": {
      "text/plain": [
       "[TriangleMesh with 33 points and 32 triangles.,\n",
       " TriangleMesh with 33 points and 32 triangles.]"
      ]
     },
     "execution_count": 55,
     "metadata": {},
     "output_type": "execute_result"
    }
   ],
   "source": [
    "splats_to_oriented_discs(splats['centers'], splats['scales'], splats['rotations'])"
   ]
  },
  {
   "cell_type": "code",
   "execution_count": 53,
   "metadata": {},
   "outputs": [
    {
     "data": {
      "text/plain": [
       "array([[3.53553391e-01, 1.76776695e-01, 1.00000000e-04],\n",
       "       [3.53553391e-01, 1.76776695e-01, 1.00000000e-04]])"
      ]
     },
     "execution_count": 53,
     "metadata": {},
     "output_type": "execute_result"
    }
   ],
   "source": [
    "splats['scales']"
   ]
  },
  {
   "cell_type": "code",
   "execution_count": 50,
   "metadata": {},
   "outputs": [
    {
     "data": {
      "text/plain": [
       "array([[0., 1., 0.],\n",
       "       [0., 1., 0.]])"
      ]
     },
     "execution_count": 50,
     "metadata": {},
     "output_type": "execute_result"
    }
   ],
   "source": [
    "triangle_normals"
   ]
  },
  {
   "cell_type": "code",
   "execution_count": 49,
   "metadata": {},
   "outputs": [
    {
     "data": {
      "text/plain": [
       "array([[ 0.7071068, -0.7071068,  0.       ,  0.       ],\n",
       "       [ 0.7071068, -0.7071068,  0.       ,  0.       ]], dtype=float32)"
      ]
     },
     "execution_count": 49,
     "metadata": {},
     "output_type": "execute_result"
    }
   ],
   "source": [
    "splats['rotations']"
   ]
  },
  {
   "cell_type": "code",
   "execution_count": 39,
   "metadata": {},
   "outputs": [
    {
     "data": {
      "text/plain": [
       "array([[ 0.,  1.,  0.],\n",
       "       [ 0.,  1.,  0.],\n",
       "       [ 0., -1.,  0.],\n",
       "       [ 0., -1.,  0.],\n",
       "       [ 0.,  0.,  1.],\n",
       "       [ 0.,  0.,  1.],\n",
       "       [ 0.,  0., -1.],\n",
       "       [ 0.,  0., -1.]])"
      ]
     },
     "execution_count": 39,
     "metadata": {},
     "output_type": "execute_result"
    }
   ],
   "source": [
    "mask = triangle_normals[:, 0] == 0\n",
    "triangle_normals[mask]"
   ]
  },
  {
   "cell_type": "code",
   "execution_count": 44,
   "metadata": {},
   "outputs": [
    {
     "data": {
      "text/plain": [
       "array([[0.7071068, 0.       , 0.7071068, 0.       ]], dtype=float32)"
      ]
     },
     "execution_count": 44,
     "metadata": {},
     "output_type": "execute_result"
    }
   ],
   "source": [
    "from mesh_to_gaussians import create_aligned_ellipsoid\n",
    "create_aligned_ellipsoid(np.array([[1,0,0]]))\n"
   ]
  },
  {
   "cell_type": "code",
   "execution_count": 45,
   "metadata": {},
   "outputs": [
    {
     "data": {
      "text/plain": [
       "array([[ 0.7071068, -0.7071068,  0.       ,  0.       ]], dtype=float32)"
      ]
     },
     "execution_count": 45,
     "metadata": {},
     "output_type": "execute_result"
    }
   ],
   "source": [
    "create_aligned_ellipsoid(np.array([[0,1,0]]))"
   ]
  },
  {
   "cell_type": "code",
   "execution_count": 46,
   "metadata": {},
   "outputs": [
    {
     "data": {
      "text/plain": [
       "array([[1., 0., 0., 0.]], dtype=float32)"
      ]
     },
     "execution_count": 46,
     "metadata": {},
     "output_type": "execute_result"
    }
   ],
   "source": [
    "create_aligned_ellipsoid(np.array([[0,0,1]]))"
   ]
  },
  {
   "cell_type": "code",
   "execution_count": 47,
   "metadata": {},
   "outputs": [
    {
     "data": {
      "text/plain": [
       "array([[ 0.7071068,  0.7071068,  0.       , -0.       ]], dtype=float32)"
      ]
     },
     "execution_count": 47,
     "metadata": {},
     "output_type": "execute_result"
    }
   ],
   "source": [
    "create_aligned_ellipsoid(np.array([[0,-1,0]]))"
   ]
  },
  {
   "cell_type": "code",
   "execution_count": 51,
   "metadata": {},
   "outputs": [
    {
     "name": "stdout",
     "output_type": "stream",
     "text": [
      "Normal [0, 1, 0] converted to quaternion [w,x,y,z]: [ 0.70710678 -0.70710678  0.          0.        ]\n"
     ]
    }
   ],
   "source": [
    "\n",
    "def normal_to_quaternion(normal):\n",
    "    \"\"\"\n",
    "    Convert a normal vector to a rotation quaternion that would rotate [0,0,1] to align with the normal.\n",
    "    \n",
    "    Args:\n",
    "        normal: A numpy array or list containing [x,y,z] coordinates of the normal vector\n",
    "        \n",
    "    Returns:\n",
    "        quaternion: A numpy array [w,x,y,z] representing the rotation quaternion\n",
    "    \"\"\"\n",
    "    # Convert input to numpy array and normalize\n",
    "    normal = np.array(normal, dtype=float)\n",
    "    normal = normal / np.linalg.norm(normal)\n",
    "    \n",
    "    # Default up vector we're rotating from\n",
    "    up = np.array([0, 0, 1])\n",
    "    \n",
    "    # Get rotation axis and angle\n",
    "    axis = np.cross(up, normal)\n",
    "    \n",
    "    # If normal is parallel to up vector, handle specially\n",
    "    if np.allclose(axis, 0):\n",
    "        if np.allclose(normal, up):\n",
    "            return np.array([1, 0, 0, 0])  # Identity quaternion\n",
    "        else:\n",
    "            return np.array([0, 1, 0, 0])  # 180° rotation around X\n",
    "    \n",
    "    axis = axis / np.linalg.norm(axis)\n",
    "    angle = np.arccos(np.dot(up, normal))\n",
    "    \n",
    "    # Convert axis-angle to quaternion\n",
    "    w = np.cos(angle / 2)\n",
    "    xyz = axis * np.sin(angle / 2)\n",
    "    \n",
    "    return np.array([w, xyz[0], xyz[1], xyz[2]])\n",
    "\n",
    "# Example usage for [0,1,0]\n",
    "normal = [0, 1, 0]\n",
    "quaternion = normal_to_quaternion(normal)\n",
    "print(f\"Normal {normal} converted to quaternion [w,x,y,z]: {quaternion}\")"
   ]
  },
  {
   "cell_type": "code",
   "execution_count": 22,
   "metadata": {},
   "outputs": [
    {
     "name": "stdout",
     "output_type": "stream",
     "text": [
      "merging 6 point clouds\n",
      "merging 3 point clouds\n",
      "merging 2 point clouds\n"
     ]
    },
    {
     "name": "stderr",
     "output_type": "stream",
     "text": [
      "[WARNING] /root/Open3D/build/poisson/src/ext_poisson/PoissonRecon/Src/FEMTree.Initialize.inl (Line 193)\n",
      "          Initialize\n",
      "          Found bad data: 228\n",
      "Mesh 1 is not clean and watertight, ignoring\n"
     ]
    },
    {
     "name": "stdout",
     "output_type": "stream",
     "text": [
      "Dims: [15 15  3]\n",
      "Dims: [21 17 44]\n",
      "Dims: [13  5  2]\n"
     ]
    }
   ],
   "source": [
    "result = pb.initialize_scene(d, None, intermediate_outputs_path)"
   ]
  },
  {
   "cell_type": "code",
   "execution_count": 24,
   "metadata": {},
   "outputs": [
    {
     "data": {
      "text/plain": [
       "3"
      ]
     },
     "execution_count": 24,
     "metadata": {},
     "output_type": "execute_result"
    }
   ],
   "source": [
    "len(result.objects)"
   ]
  },
  {
   "cell_type": "code",
   "execution_count": 26,
   "metadata": {},
   "outputs": [],
   "source": [
    "gaussians = result.objects[0].gaussians\n",
    "particles = result.objects[0].particles"
   ]
  },
  {
   "cell_type": "code",
   "execution_count": 27,
   "metadata": {},
   "outputs": [],
   "source": [
    "# create spheres from particles, and move to particles position\n",
    "spheres = [o3d.geometry.TriangleMesh.create_sphere(radius=particle.radius) for particle in particles]\n",
    "for sphere, particle in zip(spheres, particles):\n",
    "    sphere.translate(particle.xyz)\n",
    "o3d.visualization.draw_geometries([*spheres], mesh_show_back_face=True)"
   ]
  },
  {
   "cell_type": "code",
   "execution_count": 30,
   "metadata": {},
   "outputs": [],
   "source": [
    "# create discs from gaussians, and move to gaussian position\n",
    "discs = splats_to_oriented_discs(gaussians.xyz, gaussians.scaling, gaussians.rotations, gaussians.colors, resolution=12)\n",
    "o3d.visualization.draw_geometries(discs, mesh_show_back_face=True)"
   ]
  }
 ],
 "metadata": {
  "kernelspec": {
   "display_name": ".venv",
   "language": "python",
   "name": "python3"
  },
  "language_info": {
   "codemirror_mode": {
    "name": "ipython",
    "version": 3
   },
   "file_extension": ".py",
   "mimetype": "text/x-python",
   "name": "python",
   "nbconvert_exporter": "python",
   "pygments_lexer": "ipython3",
   "version": "3.10.14"
  }
 },
 "nbformat": 4,
 "nbformat_minor": 2
}
