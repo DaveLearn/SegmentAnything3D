{
 "cells": [
  {
   "cell_type": "code",
   "execution_count": 2,
   "metadata": {},
   "outputs": [],
   "source": [
    "%reload_ext autoreload\n",
    "%autoreload 2"
   ]
  },
  {
   "cell_type": "code",
   "execution_count": 3,
   "metadata": {},
   "outputs": [
    {
     "name": "stdout",
     "output_type": "stream",
     "text": [
      "Jupyter environment detected. Enabling Open3D WebVisualizer.\n",
      "[Open3D INFO] WebRTC GUI backend enabled.\n",
      "[Open3D INFO] WebRTCWindowSystem: HTTP handshake server disabled.\n"
     ]
    }
   ],
   "source": [
    "import segmenter as pb\n",
    "import sam3d as s3d\n",
    "import open3d as o3d\n",
    "from psdframe import Frame\n",
    "from psdstaticdataset import StaticDataset\n",
    "from pathlib import Path\n",
    "from matplotlib import pyplot as plt\n",
    "from segment_anything import build_sam, SamAutomaticMaskGenerator\n",
    "from util import Voxelize, num_to_natural\n",
    "from mesh_to_gaussians import batch_triangles_to_splats, splats_to_oriented_discs\n",
    "import numpy as np\n",
    "from initializerdefs import SceneSetup"
   ]
  },
  {
   "cell_type": "code",
   "execution_count": 4,
   "metadata": {},
   "outputs": [],
   "source": [
    "DS_PATH = Path(\"/home/david/projects/embodied_gaussians/datasets/real/multiple1_aruco/modelling/static\")\n",
    "scene = SceneSetup.load(DS_PATH / \"scene.pkl\")"
   ]
  },
  {
   "cell_type": "code",
   "execution_count": 5,
   "metadata": {},
   "outputs": [],
   "source": [
    "import json\n",
    "\n",
    "with open(DS_PATH.parent.parent.parent / \"empty\" / \"background.json\", \"r\") as f:\n",
    "    background = json.load(f)"
   ]
  },
  {
   "cell_type": "code",
   "execution_count": 6,
   "metadata": {},
   "outputs": [],
   "source": [
    "background_pcd = o3d.geometry.PointCloud(o3d.utility.Vector3dVector(background['points']))\n",
    "background_pcd.paint_uniform_color([1,0,0])\n",
    "\n",
    "scene_pcd = o3d.geometry.PointCloud(o3d.utility.Vector3dVector(scene.ground_gaussians.xyz))\n",
    "scene_pcd.paint_uniform_color([0,0,1])\n",
    "o3d.visualization.draw_geometries([background_pcd, scene_pcd], mesh_show_back_face=True)"
   ]
  }
 ],
 "metadata": {
  "kernelspec": {
   "display_name": ".venv",
   "language": "python",
   "name": "python3"
  },
  "language_info": {
   "codemirror_mode": {
    "name": "ipython",
    "version": 3
   },
   "file_extension": ".py",
   "mimetype": "text/x-python",
   "name": "python",
   "nbconvert_exporter": "python",
   "pygments_lexer": "ipython3",
   "version": "3.10.14"
  }
 },
 "nbformat": 4,
 "nbformat_minor": 2
}
